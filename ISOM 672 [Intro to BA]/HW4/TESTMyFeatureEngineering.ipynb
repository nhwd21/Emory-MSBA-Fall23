{
 "cells": [
  {
   "cell_type": "markdown",
   "metadata": {},
   "source": [
    "### Import Data and Load Modules"
   ]
  },
  {
   "cell_type": "code",
   "execution_count": 2,
   "metadata": {},
   "outputs": [],
   "source": [
    "# Import modules\n",
    "import pandas as pd\n",
    "from sklearn.model_selection import train_test_split\n",
    "from sklearn.linear_model import LinearRegression\n",
    "from sklearn.metrics import mean_squared_error\n",
    "from sklearn.metrics import mean_absolute_error\n",
    "from sklearn.model_selection import cross_val_score\n",
    "from sklearn import neighbors\n",
    "from sklearn.preprocessing import MinMaxScaler\n",
    "from math import sqrt\n",
    "from sklearn.tree import DecisionTreeRegressor\n",
    "import pandas as pd\n",
    "import numpy as np"
   ]
  },
  {
   "cell_type": "code",
   "execution_count": 3,
   "metadata": {},
   "outputs": [],
   "source": [
    "# Read data\n",
    "df = pd.read_excel('HW4.xlsx', sheet_name='All Data')\n",
    "\n",
    "# Create a new DataFrame for feature engineering\n",
    "df_new = df.copy()"
   ]
  },
  {
   "cell_type": "code",
   "execution_count": 4,
   "metadata": {},
   "outputs": [],
   "source": [
    "# Whenever applicable use random state 42 (10 points).\n",
    "np.random.seed(42) # ensure reproducability"
   ]
  },
  {
   "cell_type": "markdown",
   "metadata": {},
   "source": [
    "### Feature Engineering"
   ]
  },
  {
   "cell_type": "code",
   "execution_count": 5,
   "metadata": {},
   "outputs": [],
   "source": [
    "# Perform binning, and time series feature engineering steps:\n",
    "\n",
    "# 1. Add a new column that bins \"Freq\" into the categories low, medium, and high\n",
    "# bins = [0, 50, 200, float('inf')]  # Define the bin edges\n",
    "# labels = ['Low', 'Medium', 'High']  # Define bin labels\n",
    "# df_new['Freq_category'] = pd.cut(df_new['Freq'], bins=bins, labels=labels)\n",
    "\n",
    "# 2. Extract the month and year from the last_update_days_ago and 1st_update_days_ago features\n",
    "df_new['Last_Update_Month'] = pd.to_datetime(df_new['last_update_days_ago'], unit='D').dt.month\n",
    "df_new['Last_Update_Year'] = pd.to_datetime(df_new['last_update_days_ago'], unit='D').dt.year\n",
    "df_new['First_Update_Month'] = pd.to_datetime(df_new['1st_update_days_ago'], unit='D').dt.month\n",
    "df_new['First_Update_Year'] = pd.to_datetime(df_new['1st_update_days_ago'], unit='D').dt.year\n",
    "\n",
    "# 3. Create a new column that captures the time between the first and last update\n",
    "df_new['Update_Time_Difference'] = df_new['last_update_days_ago'] - df_new['1st_update_days_ago']\n"
   ]
  },
  {
   "cell_type": "code",
   "execution_count": 6,
   "metadata": {},
   "outputs": [],
   "source": [
    "# Create the train-test split:\n",
    "\n",
    "# Split the data into features (X) and target variable (y)\n",
    "X = df_new.drop(columns=['Spending'])\n",
    "y = df_new['Spending']\n",
    "\n",
    "# Split the data into train and test sets\n",
    "X_train, X_test, y_train, y_test = train_test_split(X, y, test_size=0.3, random_state=42)"
   ]
  },
  {
   "cell_type": "code",
   "execution_count": 7,
   "metadata": {},
   "outputs": [],
   "source": [
    "# Scale features:\n",
    "from sklearn.preprocessing import StandardScaler # standardize features by removing the mean and scaling to unit variance\n",
    "                                                 # the standard score of a sample x is calculated as: z = (x - u) / s\n",
    "                                                 # where u is the mean of the training sample , and s is the standard deviation of the training sample.\n",
    "                                                 # centering and scaling happens independently on each feature.\n",
    "\n",
    "scaler = StandardScaler()\n",
    "X_train = scaler.fit_transform(X_train)         # computes the mean and std to be used for scaling and performs scaling\n",
    "X_test = scaler.transform(X_test)               # performs standardization of test set X attributes by centering and scaling"
   ]
  },
  {
   "cell_type": "markdown",
   "metadata": {},
   "source": [
    "## Linear Regression"
   ]
  },
  {
   "cell_type": "code",
   "execution_count": 8,
   "metadata": {},
   "outputs": [
    {
     "name": "stdout",
     "output_type": "stream",
     "text": [
      "Slope: %.3f [-1.32763995e+00 -6.43710208e-01  1.92641053e+00 -1.23465415e+01\n",
      " -3.74455153e+00 -1.02536636e+01 -8.69505959e+00 -4.90005966e+00\n",
      "  1.04034321e+00 -1.74843183e+01  3.58505984e+00 -5.71075075e+00\n",
      " -4.10877163e+00 -2.42582651e+00 -5.97642497e+00 -2.94043316e+00\n",
      " -3.10741172e+00  1.12184758e+02 -1.43157179e+12  1.34610059e+12\n",
      " -1.16815959e+00 -5.61240414e-01 -2.72456286e+01  4.35282135e+01\n",
      "  9.72950369e+00  3.51398546e+00  2.15189681e+01  2.80718320e+02\n",
      "  8.76621276e+11]\n"
     ]
    }
   ],
   "source": [
    "# Fit a Linear Regression Model\n",
    "slr2 = LinearRegression()\n",
    "slr2.fit(X_train, y_train)\n",
    "y_train_pred = slr2.predict(X_train)\n",
    "y_test_pred = slr2.predict(X_test)\n",
    "print('Slope: %.3f', slr2.coef_)                       # estimated coefficients for the linear regression model"
   ]
  },
  {
   "cell_type": "code",
   "execution_count": 9,
   "metadata": {},
   "outputs": [
    {
     "name": "stdout",
     "output_type": "stream",
     "text": [
      "MSE train: 14468.773, test: 14967.014\n",
      "RMSE train: 120.286, test: 122.340\n",
      "MAE train: 69.924, test: 68.197\n"
     ]
    }
   ],
   "source": [
    "# Evaluate Linear Regression model\n",
    "from sklearn.metrics import mean_absolute_error # mean absolute error regression loss\n",
    "from sklearn.metrics import mean_squared_error  # mean squared error regression loss\n",
    "\n",
    "# See all regression metrics here http://scikit-learn.org/stable/modules/model_evaluation.html#regression-metrics\n",
    "print('MSE train: %.3f, test: %.3f' % ( # mean_absolute_error\n",
    "        mean_squared_error(y_train, y_train_pred),\n",
    "        mean_squared_error(y_test, y_test_pred)))  # y_test: Ground truth (correct) target values\n",
    "                                                   # y_test_pred: Estimated target values\n",
    "\n",
    "print('RMSE train: %.3f, test: %.3f' % ( #RMSE\n",
    "        sqrt(mean_squared_error(y_train, y_train_pred)),\n",
    "        sqrt(mean_squared_error(y_test, y_test_pred))))\n",
    "\n",
    "print('MAE train: %.3f, test: %.3f' % ( # mean_squared_error\n",
    "        mean_absolute_error(y_train, y_train_pred),\n",
    "        mean_absolute_error(y_test, y_test_pred))) # y_test: Ground truth (correct) target values\n",
    "                                                   # y_test_pred: Estimated target values\n"
   ]
  },
  {
   "cell_type": "code",
   "execution_count": 10,
   "metadata": {},
   "outputs": [
    {
     "name": "stdout",
     "output_type": "stream",
     "text": [
      "Nested MSE score: -14625.269434917287  +/-  3023.477255848369\n",
      "Nested RMSE score: -120.20176680115381  +/-  13.296792575592217\n"
     ]
    }
   ],
   "source": [
    "# Use cross-validation with 10 folds to estimate the generalization performance\n",
    "from sklearn.model_selection import cross_val_score\n",
    "from sklearn.model_selection import ShuffleSplit\n",
    "\n",
    "cv = ShuffleSplit(n_splits=10,          # number of re-shuffling & splitting iterations\n",
    "                  test_size=0.3\n",
    "                  ,random_state=42)\n",
    "\n",
    "scores = cross_val_score(estimator=slr2,              # 10-fold cross validation\n",
    "                            X=X,\n",
    "                            y=y,\n",
    "                            cv=cv,\n",
    "                            scoring = 'neg_mean_squared_error',\n",
    "                            n_jobs=1)\n",
    "print('Nested MSE score:', scores.mean(), \" +/- \", scores.std())\n",
    "scores = cross_val_score(estimator=slr2,              # 10-fold cross validation\n",
    "                            X=X,\n",
    "                            y=y,\n",
    "                            cv=cv,\n",
    "                            scoring = 'neg_root_mean_squared_error',\n",
    "                            n_jobs=1)\n",
    "print('Nested RMSE score:', scores.mean(), \" +/- \", scores.std())\n"
   ]
  },
  {
   "cell_type": "code",
   "execution_count": 21,
   "metadata": {},
   "outputs": [
    {
     "name": "stdout",
     "output_type": "stream",
     "text": [
      "Selected Features (Names): Index(['source_a', 'source_c', 'source_d', 'source_e', 'source_m', 'source_o',\n",
      "       'source_h', 'source_r', 'source_s', 'source_t', 'source_u', 'source_p',\n",
      "       'source_w', 'Freq', 'Address_is_res', 'Purchase', 'Spending',\n",
      "       'Last_Update_Month', 'First_Update_Year'],\n",
      "      dtype='object')\n",
      "Number of Selected Features: 19\n",
      "Cross-Validation RMSE: 119.85637623211896\n",
      "1st Quartile (25th percentile): 1.0\n",
      "Median (50th percentile): 1.0\n",
      "3rd Quartile (75th percentile): 2.0\n"
     ]
    }
   ],
   "source": [
    "# Find the best subset of X variables using lasso regression:\n",
    "import numpy as np\n",
    "from sklearn.linear_model import LassoCV\n",
    "from sklearn.model_selection import cross_val_score\n",
    "\n",
    "# Initialize Lasso regression model with cross-validation\n",
    "lasso_model = LassoCV(cv=10, max_iter=10000)\n",
    "\n",
    "# Fit the Lasso model to the training data\n",
    "lasso_model.fit(X_train, y_train)\n",
    "\n",
    "# Get selected feature indices (non-zero coefficients)\n",
    "selected_feature_indices = np.where(lasso_model.coef_ != 0)[0]\n",
    "\n",
    "# Get the names of the selected features\n",
    "selected_feature_names = df_new.columns[selected_feature_indices]\n",
    "\n",
    "# Extract the subset of features based on selected indices\n",
    "X_subset_train = X_train[:, selected_feature_indices]\n",
    "\n",
    "# Perform 10-fold cross-validation and calculate the mean R-squared score\n",
    "scores = np.sqrt(-cross_val_score(lasso_model, X_subset_train, y_train, cv=10, scoring='neg_mean_squared_error', n_jobs=-1))\n",
    "mean_score = scores.mean()\n",
    "\n",
    "# Print the selected features and their names\n",
    "print(\"Selected Features (Names):\", selected_feature_names)\n",
    "print(\"Number of Selected Features:\", len(selected_feature_names))\n",
    "print(\"Cross-Validation RMSE:\", mean_score)\n",
    "\n",
    "import pandas as pd\n",
    "\n",
    "# Assuming df_new is your DataFrame\n",
    "# To find the 1st quartile (25th percentile)\n",
    "first_quartile = df_new['Freq'].quantile(0.25)\n",
    "\n",
    "# To find the median (50th percentile)\n",
    "median = df_new['Freq'].median()\n",
    "\n",
    "# To find the 3rd quartile (75th percentile)\n",
    "third_quartile = df_new['Freq'].quantile(0.75)\n",
    "\n",
    "print(\"1st Quartile (25th percentile):\", first_quartile)\n",
    "print(\"Median (50th percentile):\", median)\n",
    "print(\"3rd Quartile (75th percentile):\", third_quartile)\n",
    "\n"
   ]
  },
  {
   "cell_type": "markdown",
   "metadata": {},
   "source": [
    "## k-NN Regression"
   ]
  },
  {
   "cell_type": "code",
   "execution_count": 12,
   "metadata": {},
   "outputs": [
    {
     "name": "stdout",
     "output_type": "stream",
     "text": [
      "RMSE value is: 155.73036129863598\n"
     ]
    },
    {
     "name": "stderr",
     "output_type": "stream",
     "text": [
      "c:\\Users\\d_mos\\AppData\\Local\\Programs\\Python\\Python310\\lib\\site-packages\\sklearn\\base.py:443: UserWarning: X has feature names, but MinMaxScaler was fitted without feature names\n",
      "  warnings.warn(\n"
     ]
    }
   ],
   "source": [
    "# Fit a k-NN Regression Model, evaluate w/ error\n",
    "sc = MinMaxScaler(feature_range=(0, 1))\n",
    "sc.fit(X_train)\n",
    "x_train_scaled = sc.transform(X_train)\n",
    "x_test_scaled = sc.transform(X_test)\n",
    "x_sc = sc.transform(X)\n",
    "\n",
    "# 3NN regressor\n",
    "knn_regressor = neighbors.KNeighborsRegressor(n_neighbors=3)\n",
    "\n",
    "# Fit model \n",
    "knn_regressor.fit(x_train_scaled, y_train)\n",
    "pred = knn_regressor.predict(x_test_scaled)\n",
    "error = sqrt(mean_squared_error(y_test, pred))\n",
    "print('RMSE value is:', error)"
   ]
  },
  {
   "cell_type": "code",
   "execution_count": 13,
   "metadata": {},
   "outputs": [
    {
     "name": "stdout",
     "output_type": "stream",
     "text": [
      "Nested MSE score: -31159.730483492596  +/-  4037.365045001273\n",
      "Nested RMSE score: -176.14055704667754  +/-  11.58596766691239\n"
     ]
    }
   ],
   "source": [
    "# Use cross-validation with 10 folds to estimate the generalization performance\n",
    "from sklearn.model_selection import cross_val_score\n",
    "scores = cross_val_score(estimator=knn_regressor,              # 10-fold cross validation\n",
    "                            X=x_sc,\n",
    "                            y=y,\n",
    "                            cv=cv,\n",
    "                            scoring = 'neg_mean_squared_error',\n",
    "                            n_jobs=1)\n",
    "print('Nested MSE score:', scores.mean(), \" +/- \", scores.std())\n",
    "scores = cross_val_score(estimator=knn_regressor,              # 10-fold cross validation\n",
    "                            X=x_sc,\n",
    "                            y=y,\n",
    "                            cv=cv,\n",
    "                            scoring = 'neg_root_mean_squared_error',\n",
    "                            n_jobs=1)\n",
    "print('Nested RMSE score:', scores.mean(), \" +/- \", scores.std())"
   ]
  },
  {
   "cell_type": "markdown",
   "metadata": {},
   "source": [
    "## Regressor Tree"
   ]
  },
  {
   "cell_type": "code",
   "execution_count": 14,
   "metadata": {},
   "outputs": [
    {
     "data": {
      "text/html": [
       "<style>#sk-container-id-1 {color: black;background-color: white;}#sk-container-id-1 pre{padding: 0;}#sk-container-id-1 div.sk-toggleable {background-color: white;}#sk-container-id-1 label.sk-toggleable__label {cursor: pointer;display: block;width: 100%;margin-bottom: 0;padding: 0.3em;box-sizing: border-box;text-align: center;}#sk-container-id-1 label.sk-toggleable__label-arrow:before {content: \"▸\";float: left;margin-right: 0.25em;color: #696969;}#sk-container-id-1 label.sk-toggleable__label-arrow:hover:before {color: black;}#sk-container-id-1 div.sk-estimator:hover label.sk-toggleable__label-arrow:before {color: black;}#sk-container-id-1 div.sk-toggleable__content {max-height: 0;max-width: 0;overflow: hidden;text-align: left;background-color: #f0f8ff;}#sk-container-id-1 div.sk-toggleable__content pre {margin: 0.2em;color: black;border-radius: 0.25em;background-color: #f0f8ff;}#sk-container-id-1 input.sk-toggleable__control:checked~div.sk-toggleable__content {max-height: 200px;max-width: 100%;overflow: auto;}#sk-container-id-1 input.sk-toggleable__control:checked~label.sk-toggleable__label-arrow:before {content: \"▾\";}#sk-container-id-1 div.sk-estimator input.sk-toggleable__control:checked~label.sk-toggleable__label {background-color: #d4ebff;}#sk-container-id-1 div.sk-label input.sk-toggleable__control:checked~label.sk-toggleable__label {background-color: #d4ebff;}#sk-container-id-1 input.sk-hidden--visually {border: 0;clip: rect(1px 1px 1px 1px);clip: rect(1px, 1px, 1px, 1px);height: 1px;margin: -1px;overflow: hidden;padding: 0;position: absolute;width: 1px;}#sk-container-id-1 div.sk-estimator {font-family: monospace;background-color: #f0f8ff;border: 1px dotted black;border-radius: 0.25em;box-sizing: border-box;margin-bottom: 0.5em;}#sk-container-id-1 div.sk-estimator:hover {background-color: #d4ebff;}#sk-container-id-1 div.sk-parallel-item::after {content: \"\";width: 100%;border-bottom: 1px solid gray;flex-grow: 1;}#sk-container-id-1 div.sk-label:hover label.sk-toggleable__label {background-color: #d4ebff;}#sk-container-id-1 div.sk-serial::before {content: \"\";position: absolute;border-left: 1px solid gray;box-sizing: border-box;top: 0;bottom: 0;left: 50%;z-index: 0;}#sk-container-id-1 div.sk-serial {display: flex;flex-direction: column;align-items: center;background-color: white;padding-right: 0.2em;padding-left: 0.2em;position: relative;}#sk-container-id-1 div.sk-item {position: relative;z-index: 1;}#sk-container-id-1 div.sk-parallel {display: flex;align-items: stretch;justify-content: center;background-color: white;position: relative;}#sk-container-id-1 div.sk-item::before, #sk-container-id-1 div.sk-parallel-item::before {content: \"\";position: absolute;border-left: 1px solid gray;box-sizing: border-box;top: 0;bottom: 0;left: 50%;z-index: -1;}#sk-container-id-1 div.sk-parallel-item {display: flex;flex-direction: column;z-index: 1;position: relative;background-color: white;}#sk-container-id-1 div.sk-parallel-item:first-child::after {align-self: flex-end;width: 50%;}#sk-container-id-1 div.sk-parallel-item:last-child::after {align-self: flex-start;width: 50%;}#sk-container-id-1 div.sk-parallel-item:only-child::after {width: 0;}#sk-container-id-1 div.sk-dashed-wrapped {border: 1px dashed gray;margin: 0 0.4em 0.5em 0.4em;box-sizing: border-box;padding-bottom: 0.4em;background-color: white;}#sk-container-id-1 div.sk-label label {font-family: monospace;font-weight: bold;display: inline-block;line-height: 1.2em;}#sk-container-id-1 div.sk-label-container {text-align: center;}#sk-container-id-1 div.sk-container {/* jupyter's `normalize.less` sets `[hidden] { display: none; }` but bootstrap.min.css set `[hidden] { display: none !important; }` so we also need the `!important` here to be able to override the default hidden behavior on the sphinx rendered scikit-learn.org. See: https://github.com/scikit-learn/scikit-learn/issues/21755 */display: inline-block !important;position: relative;}#sk-container-id-1 div.sk-text-repr-fallback {display: none;}</style><div id=\"sk-container-id-1\" class=\"sk-top-container\"><div class=\"sk-text-repr-fallback\"><pre>DecisionTreeRegressor(max_depth=3, random_state=42)</pre><b>In a Jupyter environment, please rerun this cell to show the HTML representation or trust the notebook. <br />On GitHub, the HTML representation is unable to render, please try loading this page with nbviewer.org.</b></div><div class=\"sk-container\" hidden><div class=\"sk-item\"><div class=\"sk-estimator sk-toggleable\"><input class=\"sk-toggleable__control sk-hidden--visually\" id=\"sk-estimator-id-1\" type=\"checkbox\" checked><label for=\"sk-estimator-id-1\" class=\"sk-toggleable__label sk-toggleable__label-arrow\">DecisionTreeRegressor</label><div class=\"sk-toggleable__content\"><pre>DecisionTreeRegressor(max_depth=3, random_state=42)</pre></div></div></div></div></div>"
      ],
      "text/plain": [
       "DecisionTreeRegressor(max_depth=3, random_state=42)"
      ]
     },
     "execution_count": 14,
     "metadata": {},
     "output_type": "execute_result"
    }
   ],
   "source": [
    "# Fit a Regressor Tree model\n",
    "tree = DecisionTreeRegressor(criterion='squared_error', max_depth=3, random_state=42)\n",
    "tree.fit(X_train, y_train)"
   ]
  },
  {
   "cell_type": "code",
   "execution_count": 15,
   "metadata": {},
   "outputs": [
    {
     "name": "stdout",
     "output_type": "stream",
     "text": [
      "RMSE score: -121.15 (+/- 34.65)\n"
     ]
    }
   ],
   "source": [
    "# Evaluate Regressor Tree model\n",
    "scores = cross_val_score(tree,                                              # cross-validation scores\n",
    "                         X,\n",
    "                         y,\n",
    "                         scoring = 'neg_root_mean_squared_error',\n",
    "                         cv=cv)                                             # when an integer is specified StratifiedKFold is used\n",
    "                                                                            # In StratifiedKFold, the folds are made by preserving the\n",
    "                                                                            # percentage of samples for each class.\n",
    "\n",
    "print(\"RMSE score: %0.2f (+/- %0.2f)\" % (scores.mean(), scores.std() * 2)) # estimate mean and 2*std from cross validation metrics"
   ]
  }
 ],
 "metadata": {
  "kernelspec": {
   "display_name": "Python 3",
   "language": "python",
   "name": "python3"
  },
  "language_info": {
   "codemirror_mode": {
    "name": "ipython",
    "version": 3
   },
   "file_extension": ".py",
   "mimetype": "text/x-python",
   "name": "python",
   "nbconvert_exporter": "python",
   "pygments_lexer": "ipython3",
   "version": "3.10.1"
  },
  "orig_nbformat": 4
 },
 "nbformat": 4,
 "nbformat_minor": 2
}
